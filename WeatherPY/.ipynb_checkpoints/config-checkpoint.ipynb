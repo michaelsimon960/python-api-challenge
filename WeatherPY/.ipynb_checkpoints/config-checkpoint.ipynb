{
 "cells": [
  {
   "cell_type": "code",
   "execution_count": 2,
   "metadata": {},
   "outputs": [],
   "source": [
    "import os\n",
    "import json\n",
    "\n",
    "key_dict = {}\n",
    "keys_json_path = os.path.expanduser(os.path.join(\"~\", \".api_keys.json\"))\n",
    "if os.path.exists(keys_json_path):\n",
    "    with open(keys_json_path, 'r') as keys_file:\n",
    "        key_dict = json.load(keys_file)\n",
    "else:\n",
    "    print(f\"Could not find {keys_json_path}\")\n"
   ]
  },
  {
   "cell_type": "code",
   "execution_count": null,
   "metadata": {},
   "outputs": [],
   "source": []
  }
 ],
 "metadata": {
  "kernelspec": {
   "display_name": "Python 3",
   "language": "python",
   "name": "python3"
  },
  "language_info": {
   "codemirror_mode": {
    "name": "ipython",
    "version": 3
   },
   "file_extension": ".py",
   "mimetype": "text/x-python",
   "name": "python",
   "nbconvert_exporter": "python",
   "pygments_lexer": "ipython3",
   "version": "3.8.5"
  }
 },
 "nbformat": 4,
 "nbformat_minor": 4
}
